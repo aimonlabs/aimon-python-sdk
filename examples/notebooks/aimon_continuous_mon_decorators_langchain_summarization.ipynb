{
 "cells": [
  {
   "cell_type": "code",
   "execution_count": 1,
   "id": "d8495fd8-cd0a-406f-8f20-f6b66fd585fe",
   "metadata": {},
   "outputs": [],
   "source": [
    "!pip install -U langchain langchain-community openai tiktoken aimon --quiet"
   ]
  },
  {
   "cell_type": "code",
   "execution_count": 2,
   "id": "6e6a72d8-c7ab-4393-ad0d-9edc06159be8",
   "metadata": {},
   "outputs": [],
   "source": [
    "from aimon import Detect"
   ]
  },
  {
   "cell_type": "code",
   "execution_count": 3,
   "id": "244a9542-8b05-440f-996d-4ef6919f6c08",
   "metadata": {},
   "outputs": [],
   "source": [
    "import os\n",
    "openai_api_key = os.getenv(\"OPENAI_API_KEY\")"
   ]
  },
  {
   "cell_type": "code",
   "execution_count": 4,
   "id": "a7cf7522-c09c-4c4a-b714-f57527de6974",
   "metadata": {},
   "outputs": [],
   "source": [
    "# Configure your detectors here\n",
    "aimon_config = {\"hallucination\": {\"detector_name\": \"default\"},\n",
    "                \"conciseness\": {\"detector_name\": \"default\"},\n",
    "                \"completeness\": {\"detector_name\": \"default\"},\n",
    "                \"toxicity\": {\"detector_name\": \"default\"},\n",
    "                \"instruction_adherence\": {\"detector_name\": \"default\"},\n",
    "                \"context_classification\": {\"detector_name\": \"default\"}\n",
    "                }"
   ]
  },
  {
   "cell_type": "code",
   "execution_count": 5,
   "id": "d5c3e5f0-7611-4e44-ba32-b721fba56218",
   "metadata": {},
   "outputs": [],
   "source": [
    "# Setup the AIMon decorator\n",
    "detect = Detect(\n",
    "    values_returned=[\"context\", \"generated_text\", \"instructions\"],\n",
    "    api_key=os.getenv(\"AIMON_API_KEY\"),\n",
    "    config=aimon_config,\n",
    "    async_mode=True,\n",
    "    application_name=\"summarization_app_oct_2024_cm\", \n",
    "    model_name=\"gpt-4o\" \n",
    ")"
   ]
  },
  {
   "cell_type": "markdown",
   "id": "8f4ac734-ff30-4000-a410-65228e35fca8",
   "metadata": {},
   "source": [
    "### Continuous Monitoring\n",
    "\n",
    "We will monitor the example below that uses Langchain to summarize documents using OpenAI."
   ]
  },
  {
   "cell_type": "code",
   "execution_count": 6,
   "id": "44438e7f-5652-46b5-9244-cbf2977d9d48",
   "metadata": {},
   "outputs": [],
   "source": [
    "# Lanchain app example\n",
    "from langchain.text_splitter import CharacterTextSplitter\n",
    "from langchain.docstore.document import Document\n",
    "from langchain.llms.openai import OpenAI\n",
    "from langchain.chains.summarize import load_summarize_chain\n",
    "\n",
    "@detect\n",
    "def run_application(context_docs=None, user_query=None, prompt=None, summary=None, instructions=None, my_arg=None):\n",
    "    if summary:\n",
    "        return context_docs, summary, instructions\n",
    "    # Split the source text\n",
    "    text_splitter = CharacterTextSplitter()\n",
    "    texts = text_splitter.split_text(context_docs)\n",
    "    \n",
    "    # Create Document objects for the texts\n",
    "    docs = [Document(page_content=t) for t in texts[:3]]\n",
    "    \n",
    "    # Initialize the OpenAI module, load and run the summarize chain\n",
    "    llm = OpenAI(temperature=0, openai_api_key=openai_api_key)\n",
    "    chain = load_summarize_chain(llm, chain_type=\"map_reduce\")\n",
    "    return context_docs, chain.run(docs), instructions"
   ]
  },
  {
   "cell_type": "code",
   "execution_count": 7,
   "id": "bb81a8ad-e10a-43f5-9682-844d9ab2ccb4",
   "metadata": {},
   "outputs": [],
   "source": [
    "source_text = \"\"\"\n",
    "Large Language Models (LLMs) have become integral to automating and enhancing various business processes. \n",
    "However, a significant challenge these models face is the concept of \\\"hallucinations\\\" - outputs that, \n",
    "although fluent and confident, are factually incorrect or nonsensical. For enterprises relying on AI \n",
    "for decision-making, content creation, or customer service, these hallucinations can undermine credibility, \n",
    "spread misinformation, and disrupt operations. Recently, AirCanada lost a court case due to hallucinations \n",
    "in its chatbot [7]. Also, the 2024 Edelman Trust Barometer reported a drop in trust in AI companies from \n",
    "61% to 53% compared to 90% 8 years ago [8]. Recognizing the urgency of the issue, we have developed a \n",
    "state-of-the-art system designed for both offline and online detection of hallucinations, ensuring higher \n",
    "reliability and trustworthiness in LLM outputs.\n",
    "\n",
    "[Latest] Edelman trust barometer reported a drop in trust in AI companies from 61% to 47% compared to 90% 8 years ago. [8]\n",
    "\"\"\"\n",
    "\n",
    "instructions = \"\"\"\n",
    "1. Ensure that the length of the paragraph is under 5 sentences.\n",
    "2. The response should be only in english.\n",
    "\"\"\""
   ]
  },
  {
   "cell_type": "code",
   "execution_count": 8,
   "id": "1e0dc9d7-e0b0-4a05-8967-0e06179486a3",
   "metadata": {},
   "outputs": [
    {
     "name": "stderr",
     "output_type": "stream",
     "text": [
      "/var/folders/7l/300zf44j5v9c43jpqdbhkl0h0000gn/T/ipykernel_63154/590410062.py:19: LangChainDeprecationWarning: The class `OpenAI` was deprecated in LangChain 0.0.10 and will be removed in 1.0. An updated version of the class exists in the :class:`~langchain-openai package and should be used instead. To use it run `pip install -U :class:`~langchain-openai` and import as `from :class:`~langchain_openai import OpenAI``.\n",
      "  llm = OpenAI(temperature=0, openai_api_key=openai_api_key)\n",
      "/var/folders/7l/300zf44j5v9c43jpqdbhkl0h0000gn/T/ipykernel_63154/590410062.py:21: LangChainDeprecationWarning: The method `Chain.run` was deprecated in langchain 0.1.0 and will be removed in 1.0. Use :meth:`~invoke` instead.\n",
      "  return context_docs, chain.run(docs), instructions\n"
     ]
    }
   ],
   "source": [
    "context, res, instructions, aimon_res = run_application(source_text, prompt=\"Langhchain based summarization of documents\", summary=None, instructions=instructions)"
   ]
  },
  {
   "cell_type": "code",
   "execution_count": 9,
   "id": "5515eafd-8644-4792-a69e-23625a026c6c",
   "metadata": {},
   "outputs": [
    {
     "name": "stdout",
     "output_type": "stream",
     "text": [
      "🟢 Data successfully sent to AIMon.\n",
      "\n"
     ]
    }
   ],
   "source": [
    "if aimon_res.status == 200:\n",
    "    print(f\"\\U0001F7E2 {aimon_res.detect_response.message}\\n\")"
   ]
  },
  {
   "cell_type": "code",
   "execution_count": 10,
   "id": "35cb73e8-fc6b-4af1-b08e-692af7ece1ca",
   "metadata": {},
   "outputs": [],
   "source": [
    "summary=\"\"\"\n",
    "Large Language Models (LLMs) have become detrimental to automating and enhancing various business processes. \n",
    "However, a significant challenge these models face is the concept of \\\"hallucinations\\\" - outputs that, although fluent and confident, \n",
    "are factually incorrect or nonsensical. For enterprises relying on AI for decision-making, content creation, or customer service, these hallucinations \n",
    "can undermine credibility, spread misinformation, and disrupt operations. Also, the 2025 Edelman Trust Barometer reported a drop in trust in AI companies from \n",
    "61% to 53% compared to 90% 8 years ago. Recently, AirCanada lost a court case due to hallucinations in its chatbot [7]. \n",
    "\"\"\"\n",
    "context, res, instructions, aimon_res = run_application(source_text, prompt=\"Langhchain based summarization of documents\", summary=summary, instructions=instructions)"
   ]
  },
  {
   "cell_type": "code",
   "execution_count": 11,
   "id": "3a8caec6-2a25-47b6-b96d-5ecc9ff38bf0",
   "metadata": {},
   "outputs": [
    {
     "name": "stdout",
     "output_type": "stream",
     "text": [
      "🟢 Data successfully sent to AIMon.\n",
      "\n"
     ]
    }
   ],
   "source": [
    "if aimon_res.status == 200:\n",
    "    print(f\"\\U0001F7E2 {aimon_res.detect_response.message}\\n\")"
   ]
  },
  {
   "cell_type": "code",
   "execution_count": null,
   "id": "d1b67cb9-9ce1-48df-97a8-7538594cc9fb",
   "metadata": {},
   "outputs": [],
   "source": []
  }
 ],
 "metadata": {
  "kernelspec": {
   "display_name": "Python 3 (ipykernel)",
   "language": "python",
   "name": "python3"
  },
  "language_info": {
   "codemirror_mode": {
    "name": "ipython",
    "version": 3
   },
   "file_extension": ".py",
   "mimetype": "text/x-python",
   "name": "python",
   "nbconvert_exporter": "python",
   "pygments_lexer": "ipython3",
   "version": "3.9.0"
  }
 },
 "nbformat": 4,
 "nbformat_minor": 5
}
