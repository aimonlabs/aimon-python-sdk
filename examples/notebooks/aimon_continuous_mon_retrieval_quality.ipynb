{
 "cells": [
  {
   "cell_type": "code",
   "execution_count": 1,
   "id": "d8495fd8-cd0a-406f-8f20-f6b66fd585fe",
   "metadata": {},
   "outputs": [
    {
     "name": "stdout",
     "output_type": "stream",
     "text": [
      "\u001b[33mWARNING: You are using pip version 20.2.3; however, version 24.3.1 is available.\n",
      "You should consider upgrading via the '/Users/preetamjoshi/projects/aimon/aimon-python-sdk/sdk0.9/bin/python3 -m pip install --upgrade pip' command.\u001b[0m\n"
     ]
    }
   ],
   "source": [
    "!pip install -U tiktoken aimon --quiet"
   ]
  },
  {
   "cell_type": "code",
   "execution_count": 2,
   "id": "6e6a72d8-c7ab-4393-ad0d-9edc06159be8",
   "metadata": {},
   "outputs": [],
   "source": [
    "from aimon import Detect"
   ]
  },
  {
   "cell_type": "code",
   "execution_count": 3,
   "id": "244a9542-8b05-440f-996d-4ef6919f6c08",
   "metadata": {},
   "outputs": [],
   "source": [
    "import os\n",
    "openai_api_key = os.getenv(\"OPENAI_API_KEY\")"
   ]
  },
  {
   "cell_type": "code",
   "execution_count": 4,
   "id": "a7cf7522-c09c-4c4a-b714-f57527de6974",
   "metadata": {},
   "outputs": [],
   "source": [
    "# Configure your detectors here\n",
    "aimon_config = {\"hallucination\": {\"detector_name\": \"default\"},\n",
    "                \"retrieval_relevance\": {\"detector_name\": \"default\"}\n",
    "                }"
   ]
  },
  {
   "cell_type": "code",
   "execution_count": 5,
   "id": "d5c3e5f0-7611-4e44-ba32-b721fba56218",
   "metadata": {},
   "outputs": [],
   "source": [
    "# Setup the AIMon decorator\n",
    "detect = Detect(\n",
    "    values_returned=[\"user_query\", \"context\", \"generated_text\", \"task_definition\"],\n",
    "    api_key=os.getenv(\"AIMON_API_KEY\"),\n",
    "    config=aimon_config,\n",
    "    async_mode=True,\n",
    "    publish=True,\n",
    "    application_name=\"summarization_app_jan_2025\", \n",
    "    model_name=\"gpt-4o-mini\" \n",
    ")"
   ]
  },
  {
   "cell_type": "markdown",
   "id": "8f4ac734-ff30-4000-a410-65228e35fca8",
   "metadata": {},
   "source": [
    "### Continuous Monitoring\n",
    "\n",
    "We will monitor the example below using AIMon."
   ]
  },
  {
   "cell_type": "code",
   "execution_count": 6,
   "id": "44438e7f-5652-46b5-9244-cbf2977d9d48",
   "metadata": {},
   "outputs": [],
   "source": [
    "@detect\n",
    "def my_llm_app(query, context):\n",
    "    task_def = \"Your task is to grade the relevance of context document against a specified user query.\"\n",
    "    return query, context, \"The capital of France is Paris\".format(query), task_def"
   ]
  },
  {
   "cell_type": "code",
   "execution_count": 7,
   "id": "1e0dc9d7-e0b0-4a05-8967-0e06179486a3",
   "metadata": {},
   "outputs": [],
   "source": [
    "_,_,_,_, aimon_res = my_llm_app(\"What is the capital of France?\", [\"The city of Paris is the capital of France\", \"San Francisco is one of the most iconic cities in the United States.\"])"
   ]
  },
  {
   "cell_type": "code",
   "execution_count": 8,
   "id": "5515eafd-8644-4792-a69e-23625a026c6c",
   "metadata": {},
   "outputs": [
    {
     "name": "stdout",
     "output_type": "stream",
     "text": [
      "🟢 Data successfully sent to AIMon.\n",
      "\n"
     ]
    }
   ],
   "source": [
    "if aimon_res.status == 200:\n",
    "    print(f\"\\U0001F7E2 {aimon_res.detect_response['message']}\\n\")"
   ]
  },
  {
   "cell_type": "markdown",
   "id": "1bd6e148-84ab-4d9e-aa89-87285623045c",
   "metadata": {},
   "source": [
    "#### Please navigate to https://app.aimon.ai to see the results under the `summarization_app_jan_2025` application name."
   ]
  },
  {
   "cell_type": "code",
   "execution_count": null,
   "id": "ee631cce-b401-479b-80cf-49070b9f07d9",
   "metadata": {},
   "outputs": [],
   "source": []
  }
 ],
 "metadata": {
  "kernelspec": {
   "display_name": "Python 3 (ipykernel)",
   "language": "python",
   "name": "python3"
  },
  "language_info": {
   "codemirror_mode": {
    "name": "ipython",
    "version": 3
   },
   "file_extension": ".py",
   "mimetype": "text/x-python",
   "name": "python",
   "nbconvert_exporter": "python",
   "pygments_lexer": "ipython3",
   "version": "3.9.0"
  }
 },
 "nbformat": 4,
 "nbformat_minor": 5
}
