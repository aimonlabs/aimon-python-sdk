{
 "cells": [
  {
   "cell_type": "code",
   "execution_count": 1,
   "id": "6e6a72d8-c7ab-4393-ad0d-9edc06159be8",
   "metadata": {},
   "outputs": [],
   "source": [
    "from aimon import AnalyzeEval, AnalyzeProd, Application, Model"
   ]
  },
  {
   "cell_type": "code",
   "execution_count": 2,
   "id": "244a9542-8b05-440f-996d-4ef6919f6c08",
   "metadata": {},
   "outputs": [],
   "source": [
    "import os\n",
    "openai_api_key = os.getenv(\"OPEN_AI_KEY\")"
   ]
  },
  {
   "cell_type": "code",
   "execution_count": 3,
   "id": "790a85fa-3026-4ea9-94e4-8bbb22cdb6b8",
   "metadata": {},
   "outputs": [],
   "source": [
    "analyze_eval = AnalyzeEval(\n",
    "    Application(\"app_jun18_2024\"),\n",
    "    Model(\"my_gpt4_model_fine_tuned\", \"GPT-4\"), \n",
    "    api_key=os.getenv(\"AIMON_API_KEY\"),\n",
    "    evaluation_name=\"simple_eval\",\n",
    "    dataset_collection_name=\"my_first_dataset_collection241\"\n",
    ")"
   ]
  },
  {
   "cell_type": "code",
   "execution_count": 4,
   "id": "d5c3e5f0-7611-4e44-ba32-b721fba56218",
   "metadata": {},
   "outputs": [],
   "source": [
    "analyze_prod = AnalyzeProd(\n",
    "    Application(\"llm_marketing_summarization_app\"), \n",
    "    Model(\"my_gpt4_model_v2\", \"GPT-4\"), \n",
    "    values_returned=[\"context\", \"generated_text\"],\n",
    "    api_key=os.getenv(\"AIMON_API_KEY\")\n",
    ")"
   ]
  },
  {
   "cell_type": "markdown",
   "id": "797a4ade-8083-4f67-a762-430f205c83b5",
   "metadata": {},
   "source": [
    "### Evaluation\n",
    "\n",
    "We will run an evaluation the example below that uses Langchain to summarize documents using OpenAI."
   ]
  },
  {
   "cell_type": "code",
   "execution_count": 5,
   "id": "af98abfc-c04d-4cc7-ba3c-62f550de0c99",
   "metadata": {},
   "outputs": [],
   "source": [
    "# Lanchain app example\n",
    "from langchain.text_splitter import CharacterTextSplitter\n",
    "from langchain.docstore.document import Document\n",
    "from langchain.llms.openai import OpenAI\n",
    "from langchain.chains.summarize import load_summarize_chain\n",
    "\n",
    "# The analyze_eval decorator will automatically stream through\n",
    "# records in the specified data collection and run it against \n",
    "# this function. The eval_obj is a required parameter that will be\n",
    "# popular by the analyze_eval decorator\n",
    "@analyze_eval\n",
    "def run_application_eval_mode(context_docs=None, user_query=None, prompt=None, my_arg=None):\n",
    "    # Split the source text\n",
    "    text_splitter = CharacterTextSplitter()\n",
    "    texts = text_splitter.split_text(context_docs)\n",
    "    \n",
    "    # Create Document objects for the texts\n",
    "    docs = [Document(page_content=t) for t in texts[:3]]\n",
    "    \n",
    "    # Initialize the OpenAI module, load and run the summarize chain\n",
    "    llm = OpenAI(temperature=0, openai_api_key=openai_api_key)\n",
    "    chain = load_summarize_chain(llm, chain_type=\"map_reduce\")\n",
    "    return chain.run(docs)"
   ]
  },
  {
   "cell_type": "code",
   "execution_count": 6,
   "id": "bcdddfa8-43c7-446a-9337-3ad0f16a015e",
   "metadata": {},
   "outputs": [
    {
     "name": "stderr",
     "output_type": "stream",
     "text": [
      "/Users/preetamjoshi/projects/aimon/pj_aimon_rely/examples/mflow/lib/python3.9/site-packages/langchain_core/_api/deprecation.py:139: LangChainDeprecationWarning: The class `OpenAI` was deprecated in LangChain 0.0.10 and will be removed in 0.3.0. An updated version of the class exists in the langchain-openai package and should be used instead. To use it run `pip install -U langchain-openai` and import as `from langchain_openai import OpenAI`.\n",
      "  warn_deprecated(\n",
      "/Users/preetamjoshi/projects/aimon/pj_aimon_rely/examples/mflow/lib/python3.9/site-packages/langchain_core/_api/deprecation.py:139: LangChainDeprecationWarning: The method `Chain.run` was deprecated in langchain 0.1.0 and will be removed in 0.3.0. Use invoke instead.\n",
      "  warn_deprecated(\n"
     ]
    }
   ],
   "source": [
    "aimon_eval_res = run_application_eval_mode()"
   ]
  },
  {
   "cell_type": "code",
   "execution_count": 7,
   "id": "d6e94b08-0e2a-4860-a4f2-30d9ddea17af",
   "metadata": {},
   "outputs": [
    {
     "name": "stdout",
     "output_type": "stream",
     "text": [
      "[(' Acme recently launched version 2.1 of their Python library, which has deep integrations with the Python ecosystem and has been proven to be beneficial for developers. This new version includes features like async support and improved error handling.', AnalyzeCreateResponse(message='Data successfully sent to AIMon.')), ('\\n\\nTo configure the Acme python client, follow the official documentation which includes setting up environment variables and installing dependencies for both basic and advanced setups.', AnalyzeCreateResponse(message='Data successfully sent to AIMon.')), (' The Acme python client is compatible with Python 3.6+ and multiple databases, including MySQL, PostgreSQL, and MongoDB. It is also suitable for cross-language projects with Node.js.', AnalyzeCreateResponse(message='Data successfully sent to AIMon.')), (' The Acme python client may have installation, package conflicts, and connectivity issues. Troubleshooting involves checking the Python environment, dependencies, and log files, with specific error resolutions available in the online help section.', AnalyzeCreateResponse(message='Data successfully sent to AIMon.')), (' Acme recently launched version 2.1 of their Python library, which has deep integrations with the Python ecosystem and has been proven to be beneficial for developers. This new version includes features like async support and improved error handling.', AnalyzeCreateResponse(message='Data successfully sent to AIMon.')), ('\\n\\nTo configure the Acme python client, follow the official documentation which includes setting up environment variables and installing dependencies for both basic and advanced setups.', AnalyzeCreateResponse(message='Data successfully sent to AIMon.')), (' The Acme python client is compatible with Python 3.6+ and multiple databases, including MySQL, PostgreSQL, and MongoDB. It is also suitable for cross-language projects with Node.js.', AnalyzeCreateResponse(message='Data successfully sent to AIMon.')), (' The Acme python client may have installation, package conflicts, and connectivity issues. Troubleshooting involves checking the Python environment, dependencies, and log files, with specific error resolutions available in the online help section.', AnalyzeCreateResponse(message='Data successfully sent to AIMon.'))]\n"
     ]
    }
   ],
   "source": [
    "print(aimon_eval_res)"
   ]
  },
  {
   "cell_type": "markdown",
   "id": "8f4ac734-ff30-4000-a410-65228e35fca8",
   "metadata": {},
   "source": [
    "### Production\n",
    "\n",
    "We will monitor the example below that uses Langchain to summarize documents using OpenAI."
   ]
  },
  {
   "cell_type": "code",
   "execution_count": 8,
   "id": "44438e7f-5652-46b5-9244-cbf2977d9d48",
   "metadata": {},
   "outputs": [],
   "source": [
    "# Lanchain app example\n",
    "from langchain.text_splitter import CharacterTextSplitter\n",
    "from langchain.docstore.document import Document\n",
    "from langchain.llms.openai import OpenAI\n",
    "from langchain.chains.summarize import load_summarize_chain\n",
    "\n",
    "@analyze_prod\n",
    "def run_application(context_docs=None, user_query=None, prompt=None, my_arg=None):\n",
    "    # Split the source text\n",
    "    text_splitter = CharacterTextSplitter()\n",
    "    texts = text_splitter.split_text(context_docs)\n",
    "    \n",
    "    # Create Document objects for the texts\n",
    "    docs = [Document(page_content=t) for t in texts[:3]]\n",
    "    \n",
    "    # Initialize the OpenAI module, load and run the summarize chain\n",
    "    llm = OpenAI(temperature=0, openai_api_key=openai_api_key)\n",
    "    chain = load_summarize_chain(llm, chain_type=\"map_reduce\")\n",
    "    return context_docs, chain.run(docs)"
   ]
  },
  {
   "cell_type": "code",
   "execution_count": 9,
   "id": "bb81a8ad-e10a-43f5-9682-844d9ab2ccb4",
   "metadata": {},
   "outputs": [],
   "source": [
    "source_text = \"\"\"\n",
    "Large Language Models (LLMs) have become integral to automating and enhancing various business processes. \n",
    "However, a significant challenge these models face is the concept of \\\"hallucinations\\\" - outputs that, \n",
    "although fluent and confident, are factually incorrect or nonsensical. For enterprises relying on AI \n",
    "for decision-making, content creation, or customer service, these hallucinations can undermine credibility, \n",
    "spread misinformation, and disrupt operations. Recently, AirCanada lost a court case due to hallucinations \n",
    "in its chatbot [7]. Also, the 2024 Edelman Trust Barometer reported a drop in trust in AI companies from \n",
    "61% to 53% compared to 90% 8 years ago [8]. Recognizing the urgency of the issue, we have developed a \n",
    "state-of-the-art system designed for both offline and online detection of hallucinations, ensuring higher \n",
    "reliability and trustworthiness in LLM outputs.\n",
    "\"\"\""
   ]
  },
  {
   "cell_type": "code",
   "execution_count": 11,
   "id": "1e0dc9d7-e0b0-4a05-8967-0e06179486a3",
   "metadata": {},
   "outputs": [],
   "source": [
    "context, res, aimon_res = run_application(source_text, prompt=\"Langhchain based summarization of documents\")"
   ]
  },
  {
   "cell_type": "code",
   "execution_count": 12,
   "id": "5515eafd-8644-4792-a69e-23625a026c6c",
   "metadata": {},
   "outputs": [
    {
     "name": "stdout",
     "output_type": "stream",
     "text": [
      "AnalyzeCreateResponse(message='Data successfully sent to AIMon.')\n"
     ]
    }
   ],
   "source": [
    "print(aimon_res)"
   ]
  },
  {
   "cell_type": "code",
   "execution_count": null,
   "id": "ed4b3acb-bcd3-49b5-a6c4-bd6e3d38e8dd",
   "metadata": {},
   "outputs": [],
   "source": []
  }
 ],
 "metadata": {
  "kernelspec": {
   "display_name": "Python 3 (ipykernel)",
   "language": "python",
   "name": "python3"
  },
  "language_info": {
   "codemirror_mode": {
    "name": "ipython",
    "version": 3
   },
   "file_extension": ".py",
   "mimetype": "text/x-python",
   "name": "python",
   "nbconvert_exporter": "python",
   "pygments_lexer": "ipython3",
   "version": "3.9.0"
  }
 },
 "nbformat": 4,
 "nbformat_minor": 5
}
