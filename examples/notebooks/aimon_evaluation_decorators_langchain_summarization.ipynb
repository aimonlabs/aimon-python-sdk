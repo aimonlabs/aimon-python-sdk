{
 "cells": [
  {
   "cell_type": "code",
   "execution_count": 1,
   "id": "d8495fd8-cd0a-406f-8f20-f6b66fd585fe",
   "metadata": {},
   "outputs": [
    {
     "name": "stdout",
     "output_type": "stream",
     "text": [
      "\u001b[33mWARNING: You are using pip version 20.2.3; however, version 24.3.1 is available.\n",
      "You should consider upgrading via the '/Users/preetamjoshi/projects/aimon/aimon-python-sdk/sdk0.9/bin/python3 -m pip install --upgrade pip' command.\u001b[0m\n"
     ]
    }
   ],
   "source": [
    "!pip install -U aimon --quiet"
   ]
  },
  {
   "cell_type": "code",
   "execution_count": 2,
   "id": "6e6a72d8-c7ab-4393-ad0d-9edc06159be8",
   "metadata": {},
   "outputs": [],
   "source": [
    "from aimon import evaluate"
   ]
  },
  {
   "cell_type": "code",
   "execution_count": 3,
   "id": "a7cf7522-c09c-4c4a-b714-f57527de6974",
   "metadata": {},
   "outputs": [],
   "source": [
    "aimon_config = {\n",
    "    \"context_classification\": {\"detector_name\": \"default\"},\n",
    "    \"hallucination\": {\"detector_name\": \"default\"},\n",
    "    \"conciseness\": {\"detector_name\": \"default\"},\n",
    "    \"completeness\": {\"detector_name\": \"default\"},\n",
    "    \"toxicity\": {\"detector_name\": \"default\"},\n",
    "    \"instruction_adherence\": {\"detector_name\": \"default\"},\n",
    "}"
   ]
  },
  {
   "cell_type": "markdown",
   "id": "20e4afbd-afa2-402f-a63d-5121fe0385e2",
   "metadata": {},
   "source": [
    "### Create a dataset and a dataset collection\n",
    "\n",
    "AIMon can be used to manage datasets used for the evaluations. Here, we create two datasets and a collection\n",
    "comprising of these datasets. Note that these datasets only need to be created once."
   ]
  },
  {
   "cell_type": "code",
   "execution_count": 4,
   "id": "b73cf729-d349-4bbe-99bc-bbcfb8101bf0",
   "metadata": {},
   "outputs": [],
   "source": [
    "import json\n",
    "import os\n",
    "# Create a new datasets\n",
    "file_path1 = \"./test_evaluation_dataset_oct_2024_1.csv\"\n",
    "file_path2 = \"./test_evaluation_dataset_oct_2024_2.csv\"\n",
    "\n",
    "dataset_data_1 = json.dumps({\n",
    "    \"name\": \"test_evaluation_dataset_jan_2025_1.csv\",\n",
    "    \"description\": \"This is one custom dataset\"\n",
    "})\n",
    "\n",
    "dataset_data_2 = json.dumps({\n",
    "    \"name\": \"test_evaluation_dataset_jan_2025_2.csv\",\n",
    "    \"description\": \"This is another custom dataset\"\n",
    "})\n",
    "\n",
    "from aimon import Client\n",
    "aimon_api_key = os.getenv(\"AIMON_API_KEY\")\n",
    "aimon_client = Client(auth_header=f\"Bearer {aimon_api_key}\")\n",
    "\n",
    "with open(file_path1, 'rb') as file1:\n",
    "    dataset1 = aimon_client.datasets.create(\n",
    "        file=file1,\n",
    "        json_data=dataset_data_1\n",
    "    )\n",
    "\n",
    "with open(file_path2, 'rb') as file2:\n",
    "    dataset2 = aimon_client.datasets.create(\n",
    "        file=file2,\n",
    "        json_data=dataset_data_2\n",
    "    )\n",
    "dataset1 = aimon_client.datasets.list(name=\"test_evaluation_dataset_jan_2025_1.csv\")\n",
    "dataset2 = aimon_client.datasets.list(name=\"test_evaluation_dataset_jan_2025_2.csv\")"
   ]
  },
  {
   "cell_type": "code",
   "execution_count": 5,
   "id": "59cc29c4-1cde-4b03-a489-7f055fedf2de",
   "metadata": {},
   "outputs": [],
   "source": [
    "# Create a new dataset collection\n",
    "dataset_collection = aimon_client.datasets.collection.create(\n",
    "    name=\"dataset_collection_jan_2025\", \n",
    "    dataset_ids=[dataset1.sha, dataset2.sha], \n",
    "    description=\"This is a collection of two datasets.\"\n",
    ")"
   ]
  },
  {
   "cell_type": "markdown",
   "id": "797a4ade-8083-4f67-a762-430f205c83b5",
   "metadata": {},
   "source": [
    "### Evaluation\n",
    "\n",
    "We will run an evaluation the example below that uses Langchain to summarize documents using OpenAI."
   ]
  },
  {
   "cell_type": "code",
   "execution_count": 6,
   "id": "1a14752c-290b-49db-9875-a9d3fe4aed64",
   "metadata": {},
   "outputs": [],
   "source": [
    "def print_eval_results(eval_res):\n",
    "    for item in eval_res:\n",
    "        if item.response.status == 200:\n",
    "            print(f\"\\U0001F7E2 {item}\\n\")\n",
    "        else:\n",
    "            print(f\"\\U0001F534 {item}\\n\")"
   ]
  },
  {
   "cell_type": "code",
   "execution_count": 7,
   "id": "6f04fc18-5642-4c58-9903-10a993ab49f7",
   "metadata": {},
   "outputs": [
    {
     "name": "stdout",
     "output_type": "stream",
     "text": [
      "🟢 EvaluateResponse(output=The latest version is 2.1 and has async support. It was launched in March 2024, response=AnalyzeCreateResponse(message='Data successfully sent to AIMon.', status=200))\n",
      "\n",
      "🟢 EvaluateResponse(output= Setup the environment variables, install dependencies and follow the official documentation for configuration\", response=AnalyzeCreateResponse(message='Data successfully sent to AIMon.', status=200))\n",
      "\n",
      "🟢 EvaluateResponse(output=Requires Python 3.6 and above., response=AnalyzeCreateResponse(message='Data successfully sent to AIMon.', status=200))\n",
      "\n",
      "🟢 EvaluateResponse(output=Common issues are conflics with Python packages, connectivity problems and incorrect dependency installation., response=AnalyzeCreateResponse(message='Data successfully sent to AIMon.', status=200))\n",
      "\n",
      "🟢 EvaluateResponse(output=The latest version is 2.1 and has async support. It was launched in March 2024, response=AnalyzeCreateResponse(message='Data successfully sent to AIMon.', status=200))\n",
      "\n",
      "🟢 EvaluateResponse(output= Setup the environment variables, install dependencies and follow the official documentation for configuration\", response=AnalyzeCreateResponse(message='Data successfully sent to AIMon.', status=200))\n",
      "\n",
      "🟢 EvaluateResponse(output=Requires Python 3.6 and above., response=AnalyzeCreateResponse(message='Data successfully sent to AIMon.', status=200))\n",
      "\n",
      "🟢 EvaluateResponse(output=Common issues are conflics with Python packages, connectivity problems and incorrect dependency installation., response=AnalyzeCreateResponse(message='Data successfully sent to AIMon.', status=200))\n",
      "\n"
     ]
    }
   ],
   "source": [
    "res = evaluate(\n",
    "        application_name=\"llm_marketing_summarization_app_v6\",\n",
    "        model_name=\"my_gpt4_model_fine_tuned\",\n",
    "        dataset_collection_name=\"dataset_collection_jan_2025\",\n",
    "        evaluation_name=\"simple_eval_with_output_jan_2025\",\n",
    "        headers=['context_docs', 'user_query', 'prompt', 'instructions', 'output'],\n",
    "        api_key=os.getenv(\"AIMON_API_KEY\"),\n",
    "        aimon_client=aimon_client,\n",
    "        config=aimon_config,\n",
    "    )\n",
    "print_eval_results(res)"
   ]
  },
  {
   "cell_type": "code",
   "execution_count": null,
   "id": "9213519d-4439-4139-a78f-415c945e9989",
   "metadata": {},
   "outputs": [],
   "source": []
  }
 ],
 "metadata": {
  "kernelspec": {
   "display_name": "Python 3 (ipykernel)",
   "language": "python",
   "name": "python3"
  },
  "language_info": {
   "codemirror_mode": {
    "name": "ipython",
    "version": 3
   },
   "file_extension": ".py",
   "mimetype": "text/x-python",
   "name": "python",
   "nbconvert_exporter": "python",
   "pygments_lexer": "ipython3",
   "version": "3.9.0"
  }
 },
 "nbformat": 4,
 "nbformat_minor": 5
}
