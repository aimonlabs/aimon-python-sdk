{
 "cells": [
  {
   "cell_type": "code",
   "execution_count": 1,
   "id": "d8495fd8-cd0a-406f-8f20-f6b66fd585fe",
   "metadata": {},
   "outputs": [
    {
     "name": "stdout",
     "output_type": "stream",
     "text": [
      "Requirement already satisfied: aimon in ./artry2/lib/python3.9/site-packages (0.8.0)\n",
      "Requirement already satisfied: httpx in ./artry2/lib/python3.9/site-packages (from aimon) (0.27.2)\n",
      "Requirement already satisfied: distro in ./artry2/lib/python3.9/site-packages (from aimon) (1.9.0)\n",
      "Requirement already satisfied: pydantic==2.9.2 in ./artry2/lib/python3.9/site-packages (from aimon) (2.9.2)\n",
      "Requirement already satisfied: pydantic-core==2.23.4 in ./artry2/lib/python3.9/site-packages (from aimon) (2.23.4)\n",
      "Requirement already satisfied: annotated-types>=0.6.0 in ./artry2/lib/python3.9/site-packages (from pydantic==2.9.2->aimon) (0.7.0)\n",
      "Requirement already satisfied: typing-extensions>=4.6.1 in ./artry2/lib/python3.9/site-packages (from pydantic==2.9.2->aimon) (4.12.2)\n",
      "Requirement already satisfied: anyio in ./artry2/lib/python3.9/site-packages (from httpx->aimon) (4.6.0)\n",
      "Requirement already satisfied: certifi in ./artry2/lib/python3.9/site-packages (from httpx->aimon) (2024.8.30)\n",
      "Requirement already satisfied: httpcore==1.* in ./artry2/lib/python3.9/site-packages (from httpx->aimon) (1.0.6)\n",
      "Requirement already satisfied: idna in ./artry2/lib/python3.9/site-packages (from httpx->aimon) (3.10)\n",
      "Requirement already satisfied: sniffio in ./artry2/lib/python3.9/site-packages (from httpx->aimon) (1.3.1)\n",
      "Requirement already satisfied: h11<0.15,>=0.13 in ./artry2/lib/python3.9/site-packages (from httpcore==1.*->httpx->aimon) (0.14.0)\n",
      "Requirement already satisfied: exceptiongroup>=1.0.2 in ./artry2/lib/python3.9/site-packages (from anyio->httpx->aimon) (1.2.2)\n"
     ]
    }
   ],
   "source": [
    "!pip install -U aimon"
   ]
  },
  {
   "cell_type": "code",
   "execution_count": 2,
   "id": "6e6a72d8-c7ab-4393-ad0d-9edc06159be8",
   "metadata": {},
   "outputs": [],
   "source": [
    "from aimon import evaluate"
   ]
  },
  {
   "cell_type": "code",
   "execution_count": 3,
   "id": "a7cf7522-c09c-4c4a-b714-f57527de6974",
   "metadata": {},
   "outputs": [],
   "source": [
    "aimon_config = {\n",
    "    \"context_classification\": {\"detector_name\": \"default\"},\n",
    "    \"hallucination\": {\"detector_name\": \"default\"},\n",
    "    \"conciseness\": {\"detector_name\": \"default\"},\n",
    "    \"completeness\": {\"detector_name\": \"default\"},\n",
    "    \"toxicity\": {\"detector_name\": \"default\"},\n",
    "    \"instruction_adherence\": {\"detector_name\": \"default\"},\n",
    "}"
   ]
  },
  {
   "cell_type": "markdown",
   "id": "20e4afbd-afa2-402f-a63d-5121fe0385e2",
   "metadata": {},
   "source": [
    "### Create a dataset and a dataset collection\n",
    "\n",
    "AIMon can be used to manage datasets used for the evaluations. Here, we create two datasets and a collection\n",
    "comprising of these datasets. Note that these datasets only need to be created once."
   ]
  },
  {
   "cell_type": "code",
   "execution_count": 4,
   "id": "b73cf729-d349-4bbe-99bc-bbcfb8101bf0",
   "metadata": {},
   "outputs": [],
   "source": [
    "import json\n",
    "import os\n",
    "# Create a new datasets\n",
    "file_path1 = \"./test_evaluation_dataset_oct_2024_1.csv\"\n",
    "file_path2 = \"./test_evaluation_dataset_oct_2024_2.csv\"\n",
    "\n",
    "dataset_data_1 = json.dumps({\n",
    "    \"name\": \"test_evaluation_dataset_oct_17_2024_1.csv\",\n",
    "    \"description\": \"This is one custom dataset\"\n",
    "})\n",
    "\n",
    "dataset_data_2 = json.dumps({\n",
    "    \"name\": \"test_evaluation_dataset_oct_17_2024_2.csv\",\n",
    "    \"description\": \"This is another custom dataset\"\n",
    "})\n",
    "\n",
    "from aimon import Client\n",
    "aimon_api_key = os.getenv(\"AIMON_API_KEY\")\n",
    "aimon_client = Client(auth_header=f\"Bearer {aimon_api_key}\")\n",
    "\n",
    "with open(file_path1, 'rb') as file1:\n",
    "    dataset1 = aimon_client.datasets.create(\n",
    "        file=file1,\n",
    "        json_data=dataset_data_1\n",
    "    )\n",
    "\n",
    "with open(file_path2, 'rb') as file2:\n",
    "    dataset2 = aimon_client.datasets.create(\n",
    "        file=file2,\n",
    "        json_data=dataset_data_2\n",
    "    )\n",
    "dataset1 = aimon_client.datasets.list(name=\"test_evaluation_dataset_oct_17_2024_1.csv\")\n",
    "dataset2 = aimon_client.datasets.list(name=\"test_evaluation_dataset_oct_17_2024_2.csv\")"
   ]
  },
  {
   "cell_type": "code",
   "execution_count": 5,
   "id": "59cc29c4-1cde-4b03-a489-7f055fedf2de",
   "metadata": {},
   "outputs": [],
   "source": [
    "# Create a new dataset collection\n",
    "dataset_collection = aimon_client.datasets.collection.create(\n",
    "    name=\"dataset_collection_oct_17_2024_1200\", \n",
    "    dataset_ids=[dataset1.sha, dataset2.sha], \n",
    "    description=\"This is a collection of two datasets.\"\n",
    ")"
   ]
  },
  {
   "cell_type": "markdown",
   "id": "797a4ade-8083-4f67-a762-430f205c83b5",
   "metadata": {},
   "source": [
    "### Evaluation\n",
    "\n",
    "We will run an evaluation the example below that uses Langchain to summarize documents using OpenAI."
   ]
  },
  {
   "cell_type": "code",
   "execution_count": 6,
   "id": "1a14752c-290b-49db-9875-a9d3fe4aed64",
   "metadata": {},
   "outputs": [],
   "source": [
    "def print_eval_results(eval_res):\n",
    "    for item in eval_res:\n",
    "        if item.response.status == 200:\n",
    "            print(f\"\\U0001F7E2 {item}\\n\")\n",
    "        else:\n",
    "            print(f\"\\U0001F534 {item}\\n\")"
   ]
  },
  {
   "cell_type": "code",
   "execution_count": 7,
   "id": "6f04fc18-5642-4c58-9903-10a993ab49f7",
   "metadata": {},
   "outputs": [
    {
     "name": "stdout",
     "output_type": "stream",
     "text": [
      "🟢 EvalResponse(output=The latest version is 2.1 and has async support. It was launched in March 2024, response=AnalyzeCreateResponse(message='Data successfully sent to AIMon.', status=200))\n",
      "\n",
      "🟢 EvalResponse(output= Setup the environment variables, install dependencies and follow the official documentation for configuration\", response=AnalyzeCreateResponse(message='Data successfully sent to AIMon.', status=200))\n",
      "\n",
      "🟢 EvalResponse(output=Requires Python 3.6 and above., response=AnalyzeCreateResponse(message='Data successfully sent to AIMon.', status=200))\n",
      "\n",
      "🟢 EvalResponse(output=Common issues are conflics with Python packages, connectivity problems and incorrect dependency installation., response=AnalyzeCreateResponse(message='Data successfully sent to AIMon.', status=200))\n",
      "\n",
      "🟢 EvalResponse(output=The latest version is 2.1 and has async support. It was launched in March 2024, response=AnalyzeCreateResponse(message='Data successfully sent to AIMon.', status=200))\n",
      "\n",
      "🟢 EvalResponse(output= Setup the environment variables, install dependencies and follow the official documentation for configuration\", response=AnalyzeCreateResponse(message='Data successfully sent to AIMon.', status=200))\n",
      "\n",
      "🟢 EvalResponse(output=Requires Python 3.6 and above., response=AnalyzeCreateResponse(message='Data successfully sent to AIMon.', status=200))\n",
      "\n",
      "🟢 EvalResponse(output=Common issues are conflics with Python packages, connectivity problems and incorrect dependency installation., response=AnalyzeCreateResponse(message='Data successfully sent to AIMon.', status=200))\n",
      "\n"
     ]
    }
   ],
   "source": [
    "res = evaluate(\n",
    "        application_name=\"llm_marketing_summarization_app_v5\",\n",
    "        model_name=\"my_gpt4_model_fine_tuned\",\n",
    "        dataset_collection_name=\"dataset_collection_oct_17_2024_1200\",\n",
    "        evaluation_name=\"simple_eval_with_output_oct_17\",\n",
    "        headers=['context_docs', 'user_query', 'prompt', 'instructions', 'output'],\n",
    "        api_key=os.getenv(\"AIMON_API_KEY\"),\n",
    "        aimon_client=aimon_client,\n",
    "        config=aimon_config,\n",
    "    )\n",
    "print_eval_results(res)"
   ]
  }
 ],
 "metadata": {
  "kernelspec": {
   "display_name": "Python 3 (ipykernel)",
   "language": "python",
   "name": "python3"
  },
  "language_info": {
   "codemirror_mode": {
    "name": "ipython",
    "version": 3
   },
   "file_extension": ".py",
   "mimetype": "text/x-python",
   "name": "python",
   "nbconvert_exporter": "python",
   "pygments_lexer": "ipython3",
   "version": "3.9.0"
  }
 },
 "nbformat": 4,
 "nbformat_minor": 5
}
