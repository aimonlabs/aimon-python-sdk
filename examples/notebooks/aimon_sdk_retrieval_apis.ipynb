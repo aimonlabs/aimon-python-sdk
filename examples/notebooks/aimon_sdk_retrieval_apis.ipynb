{
 "cells": [
  {
   "cell_type": "code",
   "execution_count": 1,
   "id": "1458b936-1358-4d88-9082-0620e450411e",
   "metadata": {},
   "outputs": [
    {
     "name": "stdout",
     "output_type": "stream",
     "text": [
      "\u001b[33mWARNING: You are using pip version 20.2.3; however, version 24.3.1 is available.\n",
      "You should consider upgrading via the '/Users/preetamjoshi/projects/aimon/aimon-python-sdk/sdk0.9/bin/python3 -m pip install --upgrade pip' command.\u001b[0m\n"
     ]
    }
   ],
   "source": [
    "!pip install -U tiktoken aimon --quiet"
   ]
  },
  {
   "cell_type": "code",
   "execution_count": 7,
   "id": "6e6a72d8-c7ab-4393-ad0d-9edc06159be8",
   "metadata": {},
   "outputs": [],
   "source": [
    "from aimon import Client\n",
    "import time"
   ]
  },
  {
   "cell_type": "markdown",
   "id": "6835191a-cb60-405f-8e89-57a7bfe02b9e",
   "metadata": {},
   "source": [
    "# Create an AIMon client\n",
    "\n",
    "This creates the AIMon client that will be used for the various different operations under evaluation and continuous monitoring of production applications."
   ]
  },
  {
   "cell_type": "code",
   "execution_count": 3,
   "id": "790a85fa-3026-4ea9-94e4-8bbb22cdb6b8",
   "metadata": {},
   "outputs": [],
   "source": [
    "# Create the AIMon client. You would need an API Key (that can be retrieved from the UI in your user profile). \n",
    "import os\n",
    "am_api_key = os.getenv(\"AIMON_API_KEY\")\n",
    "aimon_client = Client(auth_header=\"Bearer {}\".format(am_api_key))"
   ]
  },
  {
   "cell_type": "markdown",
   "id": "439b7c9a-0001-4ada-8699-9350d27b735d",
   "metadata": {},
   "source": [
    "# Domain adaptable re-ranking API\n",
    "\n",
    "This API can be used for re-ranking at the retrieval phase. The `task_definition` field allows you\n",
    "to detail the domain task in addition to providing some examples of query-context_document relevance. The `queries` field consists of user queries. The `context_docs` field consists of document against which we\n",
    "need to score the user queries."
   ]
  },
  {
   "cell_type": "code",
   "execution_count": 9,
   "id": "808db089-f86e-4f79-9dc5-67e1a5fa35ba",
   "metadata": {},
   "outputs": [
    {
     "name": "stdout",
     "output_type": "stream",
     "text": [
      "Latency: 0.47771215438842773\n"
     ]
    }
   ],
   "source": [
    "queries=[\"What is the capital of France?\"], \n",
    "context_docs=[\"Paris\", \"New York\"]\n",
    "st = time.time()\n",
    "scores = aimon_client.retrieval.rerank(\n",
    "    context_docs=context_docs, \n",
    "    queries=queries,\n",
    "    task_definition=\"Your task is to grade the relevance of context document against a specified user query.\", \n",
    ")\n",
    "print(\"Latency: {}\".format(time.time() - ))"
   ]
  },
  {
   "cell_type": "code",
   "execution_count": 10,
   "id": "68fda06e-5118-454a-8085-de161b1da9eb",
   "metadata": {},
   "outputs": [
    {
     "name": "stdout",
     "output_type": "stream",
     "text": [
      "Relevance score of Document at index 0 to Query at index 0: 35.25\n",
      "Relevance score of Document at index 1 to Query at index 0: 15.4375\n"
     ]
    }
   ],
   "source": [
    "for idx,val in enumerate(queries):\n",
    "    for sidx, s in enumerate(scores[idx]):\n",
    "        print(\"Relevance score of Document at index {} to Query at index {}: {}\".format(sidx, idx, s))"
   ]
  },
  {
   "cell_type": "code",
   "execution_count": 11,
   "id": "f6bd7b76-66ca-441a-9c24-3b47e1c79142",
   "metadata": {},
   "outputs": [
    {
     "name": "stdout",
     "output_type": "stream",
     "text": [
      "[[35.25, 15.4375]]\n"
     ]
    }
   ],
   "source": [
    "print(scores)"
   ]
  },
  {
   "cell_type": "code",
   "execution_count": null,
   "id": "92c7271a-6c50-491e-9f67-e98c49e603fd",
   "metadata": {},
   "outputs": [],
   "source": []
  }
 ],
 "metadata": {
  "kernelspec": {
   "display_name": "Python 3 (ipykernel)",
   "language": "python",
   "name": "python3"
  },
  "language_info": {
   "codemirror_mode": {
    "name": "ipython",
    "version": 3
   },
   "file_extension": ".py",
   "mimetype": "text/x-python",
   "name": "python",
   "nbconvert_exporter": "python",
   "pygments_lexer": "ipython3",
   "version": "3.9.0"
  }
 },
 "nbformat": 4,
 "nbformat_minor": 5
}
